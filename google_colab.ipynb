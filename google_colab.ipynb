{
  "cells": [
    {
      "cell_type": "code",
      "execution_count": null,
      "metadata": {
        "id": "-QCNM3gTtMnD"
      },
      "outputs": [],
      "source": [
        "# @title Training a character-level LLM on your own data\n",
        "# @markdown Run this cell and when you see buttons for \"Browse...\" and\n",
        "# @markdown \"Cancel upload\", click \"Browse...\" and select one or more plain\n",
        "# @markdown text files from your computer to train the model with.\n",
        "\n",
        "# Install necessary packages.\n",
        "!pip install torch numpy transformers datasets tiktoken wandb tqdm\n",
        "\n",
        "# Clone the this repo; update if necessary (if re-running cell).\n",
        "!git clone https://github.com/hafeild/nanoGPT-colab.git\n",
        "!cd nanoGPT-colab && git pull\n",
        "\n",
        "# Get and prepare the data for training.\n",
        "import sys\n",
        "# caution: path[0] is reserved for script path (or '' in REPL)\n",
        "sys.path.insert(1, 'nanoGPT-colab/data/google_colab_char')\n",
        "import prepare\n",
        "prepare.prepareGoogleColab()\n",
        "\n",
        "# Train.\n",
        "!cd nanoGPT-colab/ && python train.py config/train_google_colab_char.py \\\n",
        "    --device=cpu --compile=False --eval_iters=20 --log_interval=1 \\\n",
        "    --block_size=64 --batch_size=12 --n_layer=4 --n_head=4 \\\n",
        "    --n_embd=128 --max_iters=2000 --lr_decay_iters=2000 --dropout=0.0\n",
        "\n",
        "\n",
        "print('\\nTraining is complete! Please run the next cell to generate some output!')"
      ]
    },
    {
      "cell_type": "code",
      "execution_count": 1,
      "metadata": {
        "id": "8TWA_RTNm9HO"
      },
      "outputs": [],
      "source": [
        "# @title Text generation settings\n",
        "# @markdown Specify each of the following before running this cell.\n",
        "\n",
        "start_of_output = 'If I could have three wishes'  # @param {type: \"string\"}\n",
        "temperature = 0.8 # @param {type: \"slider\", min: 0, max: 2, step: 0.05}\n",
        "numberOfPassages = 29  # @param {type: \"slider\", max: 100, min: 1}\n",
        "\n",
        "# Generate new text.\n",
        "!cd nanoGPT-colab/ && python sample --out_dir='out-google-colab-char' --device='cpu' --start=$start_of_output --num_samples=$numberOfPassages --temperature=$temperature\n"
      ]
    }
  ],
  "metadata": {
    "colab": {
      "provenance": []
    },
    "kernelspec": {
      "display_name": "Python 3",
      "name": "python3"
    },
    "language_info": {
      "name": "python"
    }
  },
  "nbformat": 4,
  "nbformat_minor": 0
}
