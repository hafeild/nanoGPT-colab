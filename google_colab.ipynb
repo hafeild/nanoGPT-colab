{
  "nbformat": 4,
  "nbformat_minor": 0,
  "metadata": {
    "colab": {
      "provenance": []
    },
    "kernelspec": {
      "name": "python3",
      "display_name": "Python 3"
    },
    "language_info": {
      "name": "python"
    }
  },
  "cells": [
    {
      "cell_type": "markdown",
      "source": [
        "# NanoGPT in Google Colab!\n",
        "\n",
        "There are three programming \"cells\" in this notebook. Each appears in a grayish box. A cell can be run or re-run by hovering over the cell and pressing the play button that appears in the upper left margin.\n",
        "\n",
        "## STEP 1. Select and upload your data\n",
        "Run the first cell below, press the \"Browse\" button that appears below it, and select one or more plaintext files from you computer to upload to train the character-level NanoGPT model.\n",
        "\n",
        "If you wish to train a model on new data later on, be sure to rerun this cell first."
      ],
      "metadata": {
        "id": "UuW8uNzT1zna"
      }
    },
    {
      "cell_type": "code",
      "source": [
        "from google.colab import files\n",
        "\n",
        "print(\"Please select one or more plaintext files you want to train the LLM with.\")\n",
        "uploaded = files.upload()\n",
        "\n",
        "# Read the data into one string.\n",
        "data = '\\n'.join([uploaded[filename].decode('utf-8') for filename in uploaded.keys()])"
      ],
      "metadata": {
        "id": "nQYeAA6V2Te1"
      },
      "execution_count": null,
      "outputs": []
    },
    {
      "cell_type": "markdown",
      "source": [
        "## STEP 2. Get the environment setup and train your model\n",
        "\n",
        "This next cell installs all of the code you need in order to train and run a model, then it trains a new model of your data. If you ever change your dataset by running the cell above, you need to rerun this cell afterwards to perform the training.\n",
        "\n",
        "When training has completed, you will see a message telling you as much and to move on to the next cell."
      ],
      "metadata": {
        "id": "3W8liT7Q2-j9"
      }
    },
    {
      "cell_type": "code",
      "execution_count": null,
      "metadata": {
        "id": "-QCNM3gTtMnD"
      },
      "outputs": [],
      "source": [
        "# Install necessary packages.\n",
        "!pip install torch numpy transformers datasets tiktoken wandb tqdm\n",
        "\n",
        "# Clone the this repo; update if necessary (if re-running cell).\n",
        "!git clone https://github.com/hafeild/nanoGPT-colab.git\n",
        "!cd nanoGPT-colab && git pull\n",
        "\n",
        "# Get and prepare the data for training.\n",
        "import importlib\n",
        "import sys\n",
        "# caution: path[0] is reserved for script path (or '' in REPL)\n",
        "sys.path.insert(1, 'nanoGPT-colab/data/google_colab_char')\n",
        "import prepare\n",
        "importlib.reload(prepare) # In the event that we're re-running after a git repo update.\n",
        "prepare.prepareGoogleColab(data)\n",
        "\n",
        "#Train.\n",
        "!cd nanoGPT-colab/ && python train.py config/train_google_colab_char.py \\\n",
        "    --device=cpu --compile=False --eval_iters=20 --log_interval=1 \\\n",
        "    --block_size=64 --batch_size=12 --n_layer=4 --n_head=4 \\\n",
        "    --n_embd=128 --max_iters=2000 --lr_decay_iters=2000 --dropout=0.0\n",
        "\n",
        "print('\\nTRAINING IS COMPLETE! Please run the next cell to generate some output!')"
      ]
    },
    {
      "cell_type": "markdown",
      "source": [
        "## STEP 3. Generating text from the model\n",
        "\n",
        "The cell below allows you to change some settings via a form displayed on the right. You can run this cell as many times as you want after you've trained the model above."
      ],
      "metadata": {
        "id": "b1LGaahL4hzA"
      }
    },
    {
      "cell_type": "code",
      "source": [
        "# @title Text generation settings\n",
        "# @markdown Specify each of the following before running this cell.\n",
        "\n",
        "# @markdown **Prompt**: This is what the model will start with and generate the remaining words.\n",
        "prompt = 'If I had a million dollars, '  # @param {type: \"string\"}\n",
        "\n",
        "# @markdown **Temperature**: This is the amount of randomness that is used to select the next word. 0 is least random, higher is more random. The default is 0.8.\n",
        "temperature = 0.8 # @param {type: \"slider\", min: 0, max: 2, step: 0.05}\n",
        "\n",
        "# @markdown **Number of passages**: Use this to select the number of samples you want to generate.\n",
        "numberOfPassages = 4  # @param {type: \"slider\", max: 20, min: 1}\n",
        "\n",
        "# Generate new text.\n",
        "!cd nanoGPT-colab/ && python sample.py --out_dir='out-google-colab-char' --device='cpu' --start=\"$prompt\" --num_samples=$numberOfPassages --temperature=$temperature\n",
        "\n"
      ],
      "metadata": {
        "id": "8TWA_RTNm9HO"
      },
      "execution_count": null,
      "outputs": []
    }
  ]
}